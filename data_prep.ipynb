{
  "nbformat": 4,
  "nbformat_minor": 0,
  "metadata": {
    "colab": {
      "provenance": [],
      "gpuType": "T4",
      "authorship_tag": "ABX9TyO4nKl1o+nXcc7wZ8CLyp8M",
      "include_colab_link": true
    },
    "kernelspec": {
      "name": "python3",
      "display_name": "Python 3"
    },
    "language_info": {
      "name": "python"
    },
    "accelerator": "GPU"
  },
  "cells": [
    {
      "cell_type": "markdown",
      "metadata": {
        "id": "view-in-github",
        "colab_type": "text"
      },
      "source": [
        "<a href=\"https://colab.research.google.com/github/LucaPeg/ML_project/blob/main/data_prep.ipynb\" target=\"_parent\"><img src=\"https://colab.research.google.com/assets/colab-badge.svg\" alt=\"Open In Colab\"/></a>"
      ]
    },
    {
      "cell_type": "code",
      "source": [
        "import os\n",
        "import tensorflow as tf\n",
        "import matplotlib.pyplot as plt\n",
        "import numpy as np\n",
        "import cv2\n",
        "import imghdr\n",
        "import matplotlib\n",
        "from PIL import Image\n",
        "import random\n",
        "import pickle"
      ],
      "metadata": {
        "id": "QeOmTq8o3J92"
      },
      "execution_count": 1,
      "outputs": []
    },
    {
      "cell_type": "markdown",
      "source": [
        "## Connect to Drive"
      ],
      "metadata": {
        "id": "LUKeNgPO081Z"
      }
    },
    {
      "cell_type": "code",
      "source": [
        "# connect to drive\n",
        "from google.colab import drive\n",
        "drive.mount('/content/drive', force_remount=True)\n"
      ],
      "metadata": {
        "colab": {
          "base_uri": "https://localhost:8080/"
        },
        "id": "R1Lxt78o08W-",
        "outputId": "ab08797e-1bf9-418a-8bfa-02afaed0b255"
      },
      "execution_count": 2,
      "outputs": [
        {
          "output_type": "stream",
          "name": "stdout",
          "text": [
            "Mounted at /content/drive\n"
          ]
        }
      ]
    },
    {
      "cell_type": "markdown",
      "source": [
        "## Download data from Kaggle API"
      ],
      "metadata": {
        "id": "4sKT8Jzc03-6"
      }
    },
    {
      "cell_type": "code",
      "execution_count": 3,
      "metadata": {
        "colab": {
          "base_uri": "https://localhost:8080/"
        },
        "id": "q1E09tfq0lwL",
        "outputId": "da1d365d-f718-4643-ec4b-da5bccab8dc5"
      },
      "outputs": [
        {
          "output_type": "stream",
          "name": "stdout",
          "text": [
            "Dataset URL: https://www.kaggle.com/datasets/samuelcortinhas/muffin-vs-chihuahua-image-classification\n",
            "License(s): CC0-1.0\n",
            "Downloading muffin-vs-chihuahua-image-classification.zip to /content\n",
            " 96% 454M/474M [00:03<00:00, 166MB/s]\n",
            "100% 474M/474M [00:03<00:00, 154MB/s]\n"
          ]
        }
      ],
      "source": [
        "!mkdir ~/.kaggle\n",
        "\n",
        "!cp /content/drive/MyDrive/kaggle.json ~/.kaggle/kaggle.json\n",
        "\n",
        "!chmod 600 ~/.kaggle/kaggle.json\n",
        "\n",
        "!kaggle datasets download -d samuelcortinhas/muffin-vs-chihuahua-image-classification\n",
        "\n",
        "!unzip -q ./muffin-vs-chihuahua-image-classification.zip -d ."
      ]
    },
    {
      "cell_type": "markdown",
      "source": [
        "## Create train and test data"
      ],
      "metadata": {
        "id": "RWoKEu9-1MY3"
      }
    },
    {
      "cell_type": "code",
      "source": [
        "# Define the paths to the train and test directories\n",
        "train_dir = '/content/train'\n",
        "test_dir = '/content/test'\n",
        "\n",
        "train = []\n",
        "test = []\n",
        "categories = ['chihuahua','muffin']\n",
        "\n",
        "for category in categories:\n",
        "  path = os.path.join(train_dir, category)\n",
        "  class_num = categories.index(category)\n",
        "\n",
        "  for image in os.listdir(path):\n",
        "    img_array = cv2.imread(os.path.join(path, image) ,cv2.IMREAD_GRAYSCALE)\n",
        "    resized_array = cv2.resize(img_array, (150, 150))\n",
        "    train.append([resized_array, class_num])\n",
        "\n",
        "\n",
        "for category in categories:\n",
        "  path = os.path.join(test_dir, category)\n",
        "  class_num = categories.index(category)\n",
        "\n",
        "  for image in os.listdir(path):\n",
        "    img_array = cv2.imread(os.path.join(path, image) ,cv2.IMREAD_GRAYSCALE)\n",
        "    resized_array = cv2.resize(img_array, (150, 150))\n",
        "    test.append([resized_array, class_num])\n",
        "\n",
        "print(f\"Elements in train: {len(train)}\")\n",
        "print(f\"Elements in test: {len(test)}\")"
      ],
      "metadata": {
        "colab": {
          "base_uri": "https://localhost:8080/"
        },
        "id": "4QtgT8mb1LDW",
        "outputId": "6a680f5c-9b13-4893-846d-934b2b713447"
      },
      "execution_count": 4,
      "outputs": [
        {
          "output_type": "stream",
          "name": "stdout",
          "text": [
            "Elements in train: 4733\n",
            "Elements in test: 1184\n"
          ]
        }
      ]
    },
    {
      "cell_type": "code",
      "source": [
        "# Shuffle the data to avoid bias\n",
        "random.shuffle(train)\n",
        "random.shuffle(test)"
      ],
      "metadata": {
        "id": "Z9KVqAa91RID"
      },
      "execution_count": 5,
      "outputs": []
    },
    {
      "cell_type": "code",
      "source": [
        "img_train=[]\n",
        "label_train=[]\n",
        "\n",
        "for image, label in train:\n",
        "    img_train.append(image)\n",
        "    label_train.append(label)\n",
        "\n",
        "img_train= np.array(img_train).reshape(-1, 150, 150, 1)\n",
        "img_train = img_train/255\n",
        "label_train =np.array(label_train)\n",
        "\n",
        "img_test=[]\n",
        "label_test=[]\n",
        "for image,label in test:\n",
        "    img_test.append(image)\n",
        "    label_test.append(label)\n",
        "\n",
        "img_test = np.array(img_test).reshape(-1, 150, 150, 1)\n",
        "label_test=np.array(label_test)\n",
        "img_test = img_test/255\n",
        "label_test=np.array(label_test)"
      ],
      "metadata": {
        "id": "MhEuWku41S6O"
      },
      "execution_count": 6,
      "outputs": []
    },
    {
      "cell_type": "code",
      "source": [
        "pickle_out = open( \"/content/drive/MyDrive/ml_project/\" + \"img_train.pickle\",\"wb\")\n",
        "pickle.dump(img_train, pickle_out)\n",
        "pickle_out.close()\n",
        "\n",
        "pickle_out = open(\"/content/drive/MyDrive/ml_project/\"+\"label_train.pickle\",\"wb\")\n",
        "pickle.dump(label_train, pickle_out)\n",
        "pickle_out.close()\n",
        "\n",
        "\n",
        "pickle_out = open( \"/content/drive/MyDrive/ml_project/\" + \"img_test.pickle\",\"wb\")\n",
        "pickle.dump(img_test, pickle_out)\n",
        "pickle_out.close()\n",
        "\n",
        "pickle_out = open(\"/content/drive/MyDrive/ml_project/\"+\"label_test.pickle\",\"wb\")\n",
        "pickle.dump(label_test, pickle_out)\n",
        "pickle_out.close()"
      ],
      "metadata": {
        "id": "nCHqmESn1U80"
      },
      "execution_count": 7,
      "outputs": []
    }
  ]
}