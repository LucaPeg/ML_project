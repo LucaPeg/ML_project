{
 "cells": [
  {
   "cell_type": "markdown",
   "id": "fbaf6781",
   "metadata": {},
   "source": [
    "## 1. Install dependences and load data"
   ]
  },
  {
   "cell_type": "code",
   "execution_count": 30,
   "id": "b18030f8",
   "metadata": {},
   "outputs": [],
   "source": [
    "import os\n",
    "from PIL import Image\n",
    "from collections import Counter\n",
    "from matplotlib i"
   ]
  },
  {
   "cell_type": "code",
   "execution_count": 11,
   "id": "fdf6d6a3",
   "metadata": {},
   "outputs": [
    {
     "data": {
      "text/plain": [
       "'C:\\\\Users\\\\lucap\\\\Documents\\\\GitHub\\\\Machine-Learning-Project'"
      ]
     },
     "execution_count": 11,
     "metadata": {},
     "output_type": "execute_result"
    }
   ],
   "source": [
    "os.getcwd()"
   ]
  },
  {
   "cell_type": "code",
   "execution_count": 13,
   "id": "dc1146f2",
   "metadata": {},
   "outputs": [],
   "source": [
    "# Define the paths to the train and test directories\n",
    "train_dir = 'data\\\\train'\n",
    "test_dir = 'data\\\\test'\n",
    "\n",
    "# Define the classes\n",
    "classes = ['chihuahua', 'muffin']\n",
    "\n",
    "# Initialize lists to store images and labels\n",
    "train_images = []\n",
    "train_labels = []\n",
    "test_images = []\n",
    "test_labels = []\n",
    "\n",
    "# Function to load images from a directory\n",
    "def load_images_from_dir(directory):\n",
    "    images = []\n",
    "    labels = []\n",
    "    for class_name in classes:\n",
    "        class_dir = os.path.join(directory, class_name)\n",
    "        for filename in os.listdir(class_dir):\n",
    "            if filename.endswith('.jpg')\n",
    "                image_path = os.path.join(class_dir, filename)\n",
    "                image = Image.open(image_path)\n",
    "                images.append(image)\n",
    "                labels.append(class_name)\n",
    "    return images, labels\n",
    "\n",
    "# Load train images and labels\n",
    "train_images, train_labels = load_images_from_dir(train_dir)\n",
    "\n",
    "# Load test images and labels\n",
    "test_images, test_labels = load_images_from_dir(test_dir)\n"
   ]
  },
  {
   "cell_type": "code",
   "execution_count": 25,
   "id": "c313ef7f",
   "metadata": {},
   "outputs": [
    {
     "name": "stdout",
     "output_type": "stream",
     "text": [
      "Train images: 4733\n",
      "Test images: 1184\n"
     ]
    }
   ],
   "source": [
    "# Check whether import worked\n",
    "print(f\"Train images: {len(train_images)}\\nTest images: {len(test_images)}\")"
   ]
  },
  {
   "cell_type": "code",
   "execution_count": 34,
   "id": "2284192a",
   "metadata": {},
   "outputs": [
    {
     "name": "stdout",
     "output_type": "stream",
     "text": [
      "Chihuahua: 2559\n",
      "Muffin: 2174\n"
     ]
    }
   ],
   "source": [
    "# Get frequency table of labels\n",
    "for label, counts in Counter(train_labels).items():\n",
    "    print(f\"{label.title()}: {counts}\")"
   ]
  },
  {
   "cell_type": "code",
   "execution_count": null,
   "id": "b3950d38",
   "metadata": {},
   "outputs": [],
   "source": []
  },
  {
   "cell_type": "code",
   "execution_count": null,
   "id": "f0c0901d",
   "metadata": {},
   "outputs": [],
   "source": []
  },
  {
   "cell_type": "code",
   "execution_count": null,
   "id": "2bc3f798",
   "metadata": {},
   "outputs": [],
   "source": []
  },
  {
   "cell_type": "code",
   "execution_count": null,
   "id": "6a34ca4c",
   "metadata": {},
   "outputs": [],
   "source": []
  },
  {
   "cell_type": "code",
   "execution_count": null,
   "id": "15fe49d4",
   "metadata": {},
   "outputs": [],
   "source": []
  }
 ],
 "metadata": {
  "kernelspec": {
   "display_name": "Python 3 (ipykernel)",
   "language": "python",
   "name": "python3"
  },
  "language_info": {
   "codemirror_mode": {
    "name": "ipython",
    "version": 3
   },
   "file_extension": ".py",
   "mimetype": "text/x-python",
   "name": "python",
   "nbconvert_exporter": "python",
   "pygments_lexer": "ipython3",
   "version": "3.9.19"
  }
 },
 "nbformat": 4,
 "nbformat_minor": 5
}
